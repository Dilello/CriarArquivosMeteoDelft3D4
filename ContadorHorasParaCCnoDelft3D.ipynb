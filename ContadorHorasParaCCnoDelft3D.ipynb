{
 "cells": [
  {
   "cell_type": "code",
   "execution_count": 1,
   "id": "ffd5b2fb",
   "metadata": {},
   "outputs": [],
   "source": [
    "import pandas as pd\n",
    "import numpy as np"
   ]
  },
  {
   "cell_type": "code",
   "execution_count": 35,
   "id": "ebf0b9b0",
   "metadata": {},
   "outputs": [],
   "source": [
    "tempoH = pd.date_range(start = '2018-1-1 00:00', end = '2024-10-1 00:00', freq = \"H\")"
   ]
  },
  {
   "cell_type": "code",
   "execution_count": 36,
   "id": "0c86d58e",
   "metadata": {},
   "outputs": [
    {
     "data": {
      "text/plain": [
       "DatetimeIndex(['2018-01-01 00:00:00', '2018-01-01 01:00:00',\n",
       "               '2018-01-01 02:00:00', '2018-01-01 03:00:00',\n",
       "               '2018-01-01 04:00:00', '2018-01-01 05:00:00',\n",
       "               '2018-01-01 06:00:00', '2018-01-01 07:00:00',\n",
       "               '2018-01-01 08:00:00', '2018-01-01 09:00:00',\n",
       "               ...\n",
       "               '2024-09-30 15:00:00', '2024-09-30 16:00:00',\n",
       "               '2024-09-30 17:00:00', '2024-09-30 18:00:00',\n",
       "               '2024-09-30 19:00:00', '2024-09-30 20:00:00',\n",
       "               '2024-09-30 21:00:00', '2024-09-30 22:00:00',\n",
       "               '2024-09-30 23:00:00', '2024-10-01 00:00:00'],\n",
       "              dtype='datetime64[ns]', length=59161, freq='H')"
      ]
     },
     "execution_count": 36,
     "metadata": {},
     "output_type": "execute_result"
    }
   ],
   "source": [
    "tempoH"
   ]
  },
  {
   "cell_type": "code",
   "execution_count": 37,
   "id": "d73ed897",
   "metadata": {},
   "outputs": [],
   "source": [
    "Contador = pd.DataFrame()\n",
    "Contador['tempo'] = tempoH\n"
   ]
  },
  {
   "cell_type": "code",
   "execution_count": 38,
   "id": "28a38b52",
   "metadata": {},
   "outputs": [],
   "source": [
    "lista = np.arange(0,len(Contador),1)\n",
    "Contador['lista'] = lista\n",
    "Contador.index = tempoH "
   ]
  },
  {
   "cell_type": "code",
   "execution_count": 80,
   "id": "1b68b3ad",
   "metadata": {},
   "outputs": [
    {
     "data": {
      "text/html": [
       "<div>\n",
       "<style scoped>\n",
       "    .dataframe tbody tr th:only-of-type {\n",
       "        vertical-align: middle;\n",
       "    }\n",
       "\n",
       "    .dataframe tbody tr th {\n",
       "        vertical-align: top;\n",
       "    }\n",
       "\n",
       "    .dataframe thead th {\n",
       "        text-align: right;\n",
       "    }\n",
       "</style>\n",
       "<table border=\"1\" class=\"dataframe\">\n",
       "  <thead>\n",
       "    <tr style=\"text-align: right;\">\n",
       "      <th></th>\n",
       "      <th>tempo</th>\n",
       "      <th>lista</th>\n",
       "    </tr>\n",
       "  </thead>\n",
       "  <tbody>\n",
       "    <tr>\n",
       "      <th>2018-07-01</th>\n",
       "      <td>2018-07-01</td>\n",
       "      <td>4344</td>\n",
       "    </tr>\n",
       "    <tr>\n",
       "      <th>2018-08-01</th>\n",
       "      <td>2018-08-01</td>\n",
       "      <td>5088</td>\n",
       "    </tr>\n",
       "    <tr>\n",
       "      <th>2018-09-01</th>\n",
       "      <td>2018-09-01</td>\n",
       "      <td>5832</td>\n",
       "    </tr>\n",
       "    <tr>\n",
       "      <th>2018-10-01</th>\n",
       "      <td>2018-10-01</td>\n",
       "      <td>6552</td>\n",
       "    </tr>\n",
       "    <tr>\n",
       "      <th>2018-11-01</th>\n",
       "      <td>2018-11-01</td>\n",
       "      <td>7296</td>\n",
       "    </tr>\n",
       "    <tr>\n",
       "      <th>2018-12-01</th>\n",
       "      <td>2018-12-01</td>\n",
       "      <td>8016</td>\n",
       "    </tr>\n",
       "    <tr>\n",
       "      <th>2019-01-01</th>\n",
       "      <td>2019-01-01</td>\n",
       "      <td>8760</td>\n",
       "    </tr>\n",
       "  </tbody>\n",
       "</table>\n",
       "</div>"
      ],
      "text/plain": [
       "                tempo  lista\n",
       "2018-07-01 2018-07-01   4344\n",
       "2018-08-01 2018-08-01   5088\n",
       "2018-09-01 2018-09-01   5832\n",
       "2018-10-01 2018-10-01   6552\n",
       "2018-11-01 2018-11-01   7296\n",
       "2018-12-01 2018-12-01   8016\n",
       "2019-01-01 2019-01-01   8760"
      ]
     },
     "execution_count": 80,
     "metadata": {},
     "output_type": "execute_result"
    }
   ],
   "source": [
    "Contador1 = Contador.asfreq('MS')\n",
    "Contador1.loc['2018-7-1':'2019-1-1']"
   ]
  },
  {
   "cell_type": "code",
   "execution_count": null,
   "id": "fd8f8bb3",
   "metadata": {},
   "outputs": [],
   "source": []
  }
 ],
 "metadata": {
  "kernelspec": {
   "display_name": "Python 3 (ipykernel)",
   "language": "python",
   "name": "python3"
  },
  "language_info": {
   "codemirror_mode": {
    "name": "ipython",
    "version": 3
   },
   "file_extension": ".py",
   "mimetype": "text/x-python",
   "name": "python",
   "nbconvert_exporter": "python",
   "pygments_lexer": "ipython3",
   "version": "3.9.7"
  }
 },
 "nbformat": 4,
 "nbformat_minor": 5
}
